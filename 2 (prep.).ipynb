{
 "cells": [
  {
   "cell_type": "markdown",
   "id": "different-offering",
   "metadata": {},
   "source": [
    "## Lists"
   ]
  },
  {
   "cell_type": "code",
   "execution_count": 11,
   "id": "blessed-underground",
   "metadata": {},
   "outputs": [
    {
     "name": "stdout",
     "output_type": "stream",
     "text": [
      "1\n"
     ]
    }
   ],
   "source": [
    "l=[1,2,3,4,5,67]\n",
    "print(l[-(len(l))])"
   ]
  },
  {
   "cell_type": "code",
   "execution_count": 12,
   "id": "lonely-physics",
   "metadata": {},
   "outputs": [
    {
     "name": "stdout",
     "output_type": "stream",
     "text": [
      "1\n",
      "2\n",
      "3\n",
      "4\n",
      "5\n",
      "67\n"
     ]
    }
   ],
   "source": [
    "for val in l:\n",
    "    print(val)"
   ]
  },
  {
   "cell_type": "code",
   "execution_count": 14,
   "id": "premier-redhead",
   "metadata": {},
   "outputs": [
    {
     "name": "stdout",
     "output_type": "stream",
     "text": [
      "yes\n"
     ]
    }
   ],
   "source": [
    "if 4 in l:\n",
    "    print(\"yes\")\n",
    "else:\n",
    "    print(\"no\")"
   ]
  },
  {
   "cell_type": "code",
   "execution_count": 15,
   "id": "strange-elder",
   "metadata": {},
   "outputs": [
    {
     "data": {
      "text/plain": [
       "6"
      ]
     },
     "execution_count": 15,
     "metadata": {},
     "output_type": "execute_result"
    }
   ],
   "source": [
    "len(l)"
   ]
  },
  {
   "cell_type": "code",
   "execution_count": 16,
   "id": "nuclear-bathroom",
   "metadata": {},
   "outputs": [
    {
     "name": "stdout",
     "output_type": "stream",
     "text": [
      "jasmeet\n"
     ]
    }
   ],
   "source": [
    "l.append(\"jasmeet\")\n",
    "print(l[-1])"
   ]
  },
  {
   "cell_type": "code",
   "execution_count": 19,
   "id": "outstanding-roommate",
   "metadata": {},
   "outputs": [],
   "source": [
    "l.insert(0,\"Singh\")"
   ]
  },
  {
   "cell_type": "code",
   "execution_count": 20,
   "id": "sustainable-attendance",
   "metadata": {},
   "outputs": [
    {
     "name": "stdout",
     "output_type": "stream",
     "text": [
      "['Singh', 1, 'Singh', 2, 3, 4, 5, 67, 'jasmeet']\n"
     ]
    }
   ],
   "source": [
    "print(l)"
   ]
  },
  {
   "cell_type": "code",
   "execution_count": 21,
   "id": "italian-broadcast",
   "metadata": {},
   "outputs": [
    {
     "name": "stdout",
     "output_type": "stream",
     "text": [
      "jasmeet ['Singh', 1, 'Singh', 2, 3, 4, 5, 67]\n"
     ]
    }
   ],
   "source": [
    "i=l.pop()\n",
    "print(i,l)"
   ]
  },
  {
   "cell_type": "code",
   "execution_count": 23,
   "id": "oriental-plate",
   "metadata": {},
   "outputs": [
    {
     "name": "stdout",
     "output_type": "stream",
     "text": [
      "None [1, 'Singh', 2, 3, 4, 5, 67]\n"
     ]
    }
   ],
   "source": [
    "i2=l.remove(\"Singh\")\n",
    "print(i2,l)"
   ]
  },
  {
   "cell_type": "code",
   "execution_count": 24,
   "id": "political-ancient",
   "metadata": {},
   "outputs": [
    {
     "name": "stdout",
     "output_type": "stream",
     "text": [
      "[67, 5, 4, 3, 2, 'Singh', 1]\n"
     ]
    }
   ],
   "source": [
    "l.reverse()\n",
    "print(l)"
   ]
  },
  {
   "cell_type": "code",
   "execution_count": 27,
   "id": "healthy-clarity",
   "metadata": {},
   "outputs": [
    {
     "name": "stdout",
     "output_type": "stream",
     "text": [
      "[1, 2, 3, 4, 5, 67]\n"
     ]
    }
   ],
   "source": [
    "l.remove(\"Singh\")\n",
    "l.sort()\n",
    "print(l)"
   ]
  },
  {
   "cell_type": "code",
   "execution_count": 28,
   "id": "increased-luxury",
   "metadata": {},
   "outputs": [],
   "source": [
    "l=[0]*5"
   ]
  },
  {
   "cell_type": "code",
   "execution_count": 29,
   "id": "otherwise-portugal",
   "metadata": {},
   "outputs": [
    {
     "name": "stdout",
     "output_type": "stream",
     "text": [
      "[0, 0, 0, 0, 0]\n"
     ]
    }
   ],
   "source": [
    "print(l)"
   ]
  },
  {
   "cell_type": "code",
   "execution_count": 30,
   "id": "satisfied-modem",
   "metadata": {},
   "outputs": [],
   "source": [
    "l2=[1,2,3,4,5]"
   ]
  },
  {
   "cell_type": "code",
   "execution_count": 31,
   "id": "awful-hughes",
   "metadata": {},
   "outputs": [],
   "source": [
    "l3=l+l2"
   ]
  },
  {
   "cell_type": "code",
   "execution_count": 32,
   "id": "portuguese-shopper",
   "metadata": {},
   "outputs": [
    {
     "name": "stdout",
     "output_type": "stream",
     "text": [
      "[0, 0, 0, 0, 0, 1, 2, 3, 4, 5]\n"
     ]
    }
   ],
   "source": [
    "print(l3)"
   ]
  },
  {
   "cell_type": "code",
   "execution_count": 39,
   "id": "naval-department",
   "metadata": {},
   "outputs": [
    {
     "data": {
      "text/plain": [
       "[0, 0, 0, 2, 4]"
      ]
     },
     "execution_count": 39,
     "metadata": {},
     "output_type": "execute_result"
    }
   ],
   "source": [
    "#slicing\n",
    "\n",
    "l3[-5:-1]\n",
    "l3[:-3]\n",
    "\n",
    "#step\n",
    "\n",
    "l3[::2]    #take every second element"
   ]
  },
  {
   "cell_type": "code",
   "execution_count": 40,
   "id": "governing-floor",
   "metadata": {},
   "outputs": [
    {
     "name": "stdout",
     "output_type": "stream",
     "text": [
      "[1, 2, 3]\n"
     ]
    }
   ],
   "source": [
    "l=[1,2,3]\n",
    "l2=l\n",
    "\n",
    "print(l2)"
   ]
  },
  {
   "cell_type": "code",
   "execution_count": 41,
   "id": "reported-computer",
   "metadata": {},
   "outputs": [
    {
     "name": "stdout",
     "output_type": "stream",
     "text": [
      "[1, 2, 3, 3]\n"
     ]
    }
   ],
   "source": [
    "#if i modify copy list it will also modify the original list\n",
    "\n",
    "l2.append(3)\n",
    "print(l2)"
   ]
  },
  {
   "cell_type": "code",
   "execution_count": 42,
   "id": "irish-correlation",
   "metadata": {},
   "outputs": [
    {
     "name": "stdout",
     "output_type": "stream",
     "text": [
      "[1, 2, 3, 3]\n"
     ]
    }
   ],
   "source": [
    "print(l)    #original list modified"
   ]
  },
  {
   "cell_type": "code",
   "execution_count": 43,
   "id": "random-convertible",
   "metadata": {},
   "outputs": [
    {
     "name": "stdout",
     "output_type": "stream",
     "text": [
      "[1, 2, 3, 3] [1, 2, 3, 3, 4]\n"
     ]
    }
   ],
   "source": [
    "#.copy method will help\n",
    "\n",
    "l3=l2.copy()\n",
    "\n",
    "l3.append(4)\n",
    "\n",
    "print(l2,l3)"
   ]
  },
  {
   "cell_type": "code",
   "execution_count": 44,
   "id": "helpful-coverage",
   "metadata": {},
   "outputs": [
    {
     "name": "stdout",
     "output_type": "stream",
     "text": [
      "[1, 2, 3, 3, 4, 5, 6] [1, 4, 9, 9, 16, 25, 36]\n"
     ]
    }
   ],
   "source": [
    "#list comprehension\n",
    "\n",
    "a=[1,2,3,3,4,5,6]\n",
    "\n",
    "b=[i*i for i in a]\n",
    "\n",
    "print(a,b)"
   ]
  },
  {
   "cell_type": "markdown",
   "id": "awful-parts",
   "metadata": {},
   "source": [
    "## Tuples"
   ]
  },
  {
   "cell_type": "code",
   "execution_count": 45,
   "id": "obvious-variable",
   "metadata": {},
   "outputs": [],
   "source": [
    "#immutable\n",
    "#allows duplicate elements\n",
    "t=\"j\", \"a\",\"s\""
   ]
  },
  {
   "cell_type": "code",
   "execution_count": 47,
   "id": "ruled-toronto",
   "metadata": {},
   "outputs": [
    {
     "name": "stdout",
     "output_type": "stream",
     "text": [
      "<class 'tuple'>\n"
     ]
    }
   ],
   "source": [
    "print(type(t))"
   ]
  },
  {
   "cell_type": "code",
   "execution_count": 48,
   "id": "least-young",
   "metadata": {},
   "outputs": [
    {
     "name": "stdout",
     "output_type": "stream",
     "text": [
      "<class 'str'>\n",
      "<class 'tuple'>\n"
     ]
    }
   ],
   "source": [
    "t2=\"jasmeet\"\n",
    "\n",
    "print(type(t2))\n",
    "\n",
    "t3=\"jasmeet\",\n",
    "\n",
    "print(type(t3))"
   ]
  },
  {
   "cell_type": "code",
   "execution_count": 52,
   "id": "numerical-leone",
   "metadata": {},
   "outputs": [
    {
     "name": "stdout",
     "output_type": "stream",
     "text": [
      "s\n"
     ]
    }
   ],
   "source": [
    "print(t[-1])"
   ]
  },
  {
   "cell_type": "code",
   "execution_count": 55,
   "id": "likely-encoding",
   "metadata": {},
   "outputs": [
    {
     "name": "stdout",
     "output_type": "stream",
     "text": [
      "yes\n"
     ]
    }
   ],
   "source": [
    "#tuple is immutable\n",
    "\n",
    "if 'j' in t:\n",
    "    print(\"yes\")"
   ]
  },
  {
   "cell_type": "code",
   "execution_count": 57,
   "id": "handy-reducing",
   "metadata": {},
   "outputs": [
    {
     "name": "stdout",
     "output_type": "stream",
     "text": [
      "1\n"
     ]
    }
   ],
   "source": [
    "#count elements in tuple\n",
    "t=('j','a','s')\n",
    "\n",
    "print(t.count('s'))"
   ]
  },
  {
   "cell_type": "code",
   "execution_count": 58,
   "id": "handed-newark",
   "metadata": {},
   "outputs": [
    {
     "name": "stdout",
     "output_type": "stream",
     "text": [
      "2\n"
     ]
    }
   ],
   "source": [
    "print(t.index('s'))"
   ]
  },
  {
   "cell_type": "code",
   "execution_count": 62,
   "id": "plain-bikini",
   "metadata": {},
   "outputs": [
    {
     "name": "stdout",
     "output_type": "stream",
     "text": [
      "1 [2, 3] 4\n"
     ]
    }
   ],
   "source": [
    "l=(1,2,3,4)\n",
    "\n",
    "l1,*l2,l3= l\n",
    "\n",
    "print(l1,l2,l3)"
   ]
  },
  {
   "cell_type": "code",
   "execution_count": 64,
   "id": "adapted-nutrition",
   "metadata": {},
   "outputs": [
    {
     "name": "stdout",
     "output_type": "stream",
     "text": [
      "72 120\n"
     ]
    }
   ],
   "source": [
    "#list and tuple size comparision\n",
    "\n",
    "import sys\n",
    "l=(1,2,3,4)\n",
    "list1=[1,2,3,4]\n",
    "print(sys.getsizeof(l),sys.getsizeof(list1))"
   ]
  },
  {
   "cell_type": "code",
   "execution_count": 67,
   "id": "allied-campus",
   "metadata": {},
   "outputs": [
    {
     "name": "stdout",
     "output_type": "stream",
     "text": [
      "0.8736320000002706\n",
      "0.10709230000020398\n"
     ]
    }
   ],
   "source": [
    "#create list 100000 times\n",
    "#working with tuples can be more efficient\n",
    "import timeit\n",
    "\n",
    "print(timeit.timeit(stmt=\"[1,2,3,4]\",number=10000000))\n",
    "print(timeit.timeit(stmt=\"(1,2,3,4)\",number=10000000))"
   ]
  },
  {
   "cell_type": "markdown",
   "id": "worth-rapid",
   "metadata": {},
   "source": [
    "## Dictionary"
   ]
  },
  {
   "cell_type": "code",
   "execution_count": 1,
   "id": "incorporate-bunch",
   "metadata": {},
   "outputs": [],
   "source": [
    "#quotes for keys and :\n",
    "\n",
    "dict1={\"name\":\"jasmeet\",\"age\":28,\"year\":\"3rd\"}"
   ]
  },
  {
   "cell_type": "code",
   "execution_count": 2,
   "id": "smart-rwanda",
   "metadata": {},
   "outputs": [
    {
     "name": "stdout",
     "output_type": "stream",
     "text": [
      "{'name': 'jasmeet', 'age': 28, 'year': '3rd'}\n"
     ]
    }
   ],
   "source": [
    "print(dict1)"
   ]
  },
  {
   "cell_type": "code",
   "execution_count": 8,
   "id": "annual-fishing",
   "metadata": {},
   "outputs": [
    {
     "name": "stdout",
     "output_type": "stream",
     "text": [
      "{'name': 'jasmeet', 'age': 28, 'year': '3rd'}\n"
     ]
    }
   ],
   "source": [
    "#no quotes for key and =\n",
    "my_dict2= dict(name=\"jasmeet\",age=28,year=\"3rd\")\n",
    "print(my_dict2)"
   ]
  },
  {
   "cell_type": "code",
   "execution_count": 13,
   "id": "brief-democracy",
   "metadata": {},
   "outputs": [
    {
     "name": "stdout",
     "output_type": "stream",
     "text": [
      "jasmeet\n"
     ]
    }
   ],
   "source": [
    "print(my_dict2[\"name\"])"
   ]
  },
  {
   "cell_type": "code",
   "execution_count": 14,
   "id": "advance-aside",
   "metadata": {},
   "outputs": [
    {
     "name": "stdout",
     "output_type": "stream",
     "text": [
      "28\n"
     ]
    }
   ],
   "source": [
    "print(my_dict2[\"age\"])"
   ]
  },
  {
   "cell_type": "code",
   "execution_count": 16,
   "id": "selective-monitoring",
   "metadata": {},
   "outputs": [
    {
     "name": "stdout",
     "output_type": "stream",
     "text": [
      "jasmeet\n"
     ]
    }
   ],
   "source": [
    "print(dict1[\"name\"])"
   ]
  },
  {
   "cell_type": "code",
   "execution_count": 18,
   "id": "normal-console",
   "metadata": {},
   "outputs": [],
   "source": [
    "# changing values\n",
    "\n",
    "my_dict2[\"age\"]=21"
   ]
  },
  {
   "cell_type": "code",
   "execution_count": 19,
   "id": "inside-blink",
   "metadata": {},
   "outputs": [
    {
     "name": "stdout",
     "output_type": "stream",
     "text": [
      "21\n"
     ]
    }
   ],
   "source": [
    "print(my_dict2[\"age\"])"
   ]
  },
  {
   "cell_type": "code",
   "execution_count": 20,
   "id": "breathing-plane",
   "metadata": {},
   "outputs": [],
   "source": [
    "#deleting item\n",
    "\n",
    "del my_dict2[\"name\"]"
   ]
  },
  {
   "cell_type": "code",
   "execution_count": 21,
   "id": "liked-expression",
   "metadata": {},
   "outputs": [
    {
     "name": "stdout",
     "output_type": "stream",
     "text": [
      "{'age': 21, 'year': '3rd'}\n"
     ]
    }
   ],
   "source": [
    "print(my_dict2)"
   ]
  },
  {
   "cell_type": "code",
   "execution_count": 22,
   "id": "supposed-brown",
   "metadata": {},
   "outputs": [
    {
     "data": {
      "text/plain": [
       "21"
      ]
     },
     "execution_count": 22,
     "metadata": {},
     "output_type": "execute_result"
    }
   ],
   "source": [
    "#pop method\n",
    "\n",
    "my_dict2.pop(\"age\")"
   ]
  },
  {
   "cell_type": "code",
   "execution_count": 24,
   "id": "swiss-wound",
   "metadata": {},
   "outputs": [
    {
     "name": "stdout",
     "output_type": "stream",
     "text": [
      "{'year': '3rd'}\n"
     ]
    }
   ],
   "source": [
    "print(my_dict2)"
   ]
  },
  {
   "cell_type": "code",
   "execution_count": null,
   "id": "delayed-herald",
   "metadata": {},
   "outputs": [],
   "source": [
    "#  my_dict2.popitem()-> removes last inserted item"
   ]
  },
  {
   "cell_type": "code",
   "execution_count": 27,
   "id": "broke-destruction",
   "metadata": {},
   "outputs": [
    {
     "name": "stdout",
     "output_type": "stream",
     "text": [
      "jasmeet\n"
     ]
    }
   ],
   "source": [
    "if \"name\" in dict1:\n",
    "    print(dict1[\"name\"])\n",
    "else:\n",
    "    print(\"key not found\")"
   ]
  },
  {
   "cell_type": "code",
   "execution_count": 32,
   "id": "written-flight",
   "metadata": {},
   "outputs": [
    {
     "name": "stdout",
     "output_type": "stream",
     "text": [
      "Error! key not found\n"
     ]
    }
   ],
   "source": [
    "#try except statement\n",
    "#itterates insite the dictionary to find key and print its value\n",
    "\n",
    "try:\n",
    "    print(dict1[\"Year\"])\n",
    "except:\n",
    "    print(\"Error! key not found\")"
   ]
  },
  {
   "cell_type": "code",
   "execution_count": 33,
   "id": "after-weather",
   "metadata": {},
   "outputs": [
    {
     "name": "stdout",
     "output_type": "stream",
     "text": [
      "name\n",
      "age\n",
      "year\n"
     ]
    }
   ],
   "source": [
    "#access all the keys in a dict\n",
    "\n",
    "for key in dict1:\n",
    "    print(key)"
   ]
  },
  {
   "cell_type": "code",
   "execution_count": 41,
   "id": "public-process",
   "metadata": {},
   "outputs": [
    {
     "name": "stdout",
     "output_type": "stream",
     "text": [
      "name\n",
      "age\n",
      "year\n",
      "\n",
      "\n",
      "jasmeet\n",
      "28\n",
      "3rd\n",
      "\n",
      "\n",
      "name : jasmeet\n",
      "age : 28\n",
      "year : 3rd\n"
     ]
    }
   ],
   "source": [
    "#.keys method return list of all the keys inside it\n",
    "\n",
    "# dict1.key() -> list of keys in a dict\n",
    "# dict1.values() -> list of values in a dict\n",
    "# dict1.items() -> list of keys and values\n",
    "\n",
    "for key in dict1.keys():\n",
    "    print(key)\n",
    "print(\"\\n\")\n",
    "for value in dict1.values():\n",
    "    print(value)\n",
    "print(\"\\n\")\n",
    "for key, value in dict1.items():\n",
    "    print(key,\":\",value)"
   ]
  },
  {
   "cell_type": "code",
   "execution_count": 44,
   "id": "liquid-extension",
   "metadata": {},
   "outputs": [
    {
     "name": "stdout",
     "output_type": "stream",
     "text": [
      "{'name': 'jasmeet', 'age': 28, 'year': '3rd'}\n",
      "{'name': 'jasmeet', 'age': 28, 'year': '3rd'}\n"
     ]
    }
   ],
   "source": [
    "#copy a dict\n",
    "\n",
    "dict2=dict1\n",
    "\n",
    "print(dict2)\n",
    "\n",
    "#if we modify the copy then original will be also modified\n",
    "\n",
    "#copy function\n",
    "\n",
    "dict2= dict1.copy()\n",
    "\n",
    "#use dict function\n",
    "\n",
    "dict2= dict(dict1)\n",
    "\n",
    "print(dict2)"
   ]
  },
  {
   "cell_type": "code",
   "execution_count": 46,
   "id": "agricultural-cooler",
   "metadata": {},
   "outputs": [
    {
     "name": "stdout",
     "output_type": "stream",
     "text": [
      "{'name': 'jas', 'age': 21, 'year': '3rd', 'city': 'xyz'}\n"
     ]
    }
   ],
   "source": [
    "#.update method to overwrite key value pairs\n",
    "#merging and updating\n",
    "\n",
    "d1={'name': 'jasmeet', 'age': 28, 'year': '3rd'}\n",
    "d2={'name': 'jas', 'age': 21, 'city':'xyz'}\n",
    "d1.update(d2)\n",
    "print(d1)"
   ]
  },
  {
   "cell_type": "code",
   "execution_count": 50,
   "id": "sticky-strain",
   "metadata": {},
   "outputs": [
    {
     "name": "stdout",
     "output_type": "stream",
     "text": [
      "{3: 9, 4: 16, 5: 25}\n",
      "9\n",
      "510\n"
     ]
    }
   ],
   "source": [
    "#different types of key value pairs\n",
    "\n",
    "d2={3:9, 4: 16, 5:25}\n",
    "print(d2)\n",
    "print(d2[3])   #printing with numeric keys\n",
    "\n",
    "#tuple as key\n",
    "\n",
    "d2={(255,255):510}  #tuple as key\n",
    "\n",
    "print(d2[(255,255)])"
   ]
  },
  {
   "cell_type": "markdown",
   "id": "infinite-paraguay",
   "metadata": {},
   "source": [
    "## Sets "
   ]
  },
  {
   "cell_type": "code",
   "execution_count": 58,
   "id": "blond-honey",
   "metadata": {},
   "outputs": [
    {
     "name": "stdout",
     "output_type": "stream",
     "text": [
      "{1, 2, 3, 4, 5, 6}\n"
     ]
    },
    {
     "ename": "TypeError",
     "evalue": "'dict' object is not callable",
     "output_type": "error",
     "traceback": [
      "\u001b[1;31m---------------------------------------------------------------------------\u001b[0m",
      "\u001b[1;31mTypeError\u001b[0m                                 Traceback (most recent call last)",
      "\u001b[1;32m<ipython-input-58-e64f999e027b>\u001b[0m in \u001b[0;36m<module>\u001b[1;34m\u001b[0m\n\u001b[0;32m      5\u001b[0m \u001b[1;33m\u001b[0m\u001b[0m\n\u001b[0;32m      6\u001b[0m \u001b[1;31m#set from a list\u001b[0m\u001b[1;33m\u001b[0m\u001b[1;33m\u001b[0m\u001b[1;33m\u001b[0m\u001b[0m\n\u001b[1;32m----> 7\u001b[1;33m \u001b[0mset2\u001b[0m\u001b[1;33m=\u001b[0m \u001b[0mset\u001b[0m\u001b[1;33m(\u001b[0m\u001b[1;33m[\u001b[0m\u001b[1;36m1\u001b[0m\u001b[1;33m,\u001b[0m\u001b[1;36m2\u001b[0m\u001b[1;33m,\u001b[0m\u001b[1;36m3\u001b[0m\u001b[1;33m,\u001b[0m\u001b[1;36m3\u001b[0m\u001b[1;33m,\u001b[0m\u001b[1;36m3\u001b[0m\u001b[1;33m,\u001b[0m\u001b[1;36m3\u001b[0m\u001b[1;33m,\u001b[0m\u001b[1;36m34\u001b[0m\u001b[1;33m,\u001b[0m\u001b[1;36m4\u001b[0m\u001b[1;33m,\u001b[0m\u001b[1;36m5\u001b[0m\u001b[1;33m,\u001b[0m\u001b[1;36m4\u001b[0m\u001b[1;33m,\u001b[0m\u001b[1;36m4\u001b[0m\u001b[1;33m,\u001b[0m\u001b[1;36m4\u001b[0m\u001b[1;33m,\u001b[0m\u001b[1;36m4\u001b[0m\u001b[1;33m,\u001b[0m\u001b[1;36m4\u001b[0m\u001b[1;33m,\u001b[0m\u001b[1;36m4\u001b[0m\u001b[1;33m,\u001b[0m\u001b[1;36m5\u001b[0m\u001b[1;33m]\u001b[0m\u001b[1;33m)\u001b[0m\u001b[1;33m\u001b[0m\u001b[1;33m\u001b[0m\u001b[0m\n\u001b[0m\u001b[0;32m      8\u001b[0m \u001b[1;33m\u001b[0m\u001b[0m\n\u001b[0;32m      9\u001b[0m \u001b[0mprint\u001b[0m\u001b[1;33m(\u001b[0m\u001b[0mset2\u001b[0m\u001b[1;33m,\u001b[0m \u001b[0mtype\u001b[0m\u001b[1;33m(\u001b[0m\u001b[0mset2\u001b[0m\u001b[1;33m)\u001b[0m\u001b[1;33m)\u001b[0m\u001b[1;33m\u001b[0m\u001b[1;33m\u001b[0m\u001b[0m\n",
      "\u001b[1;31mTypeError\u001b[0m: 'dict' object is not callable"
     ]
    }
   ],
   "source": [
    "#unordered, mutable and duplicates\n",
    "\n",
    "set1={1,2,3,3,4,5,6,6,6,2}\n",
    "print(set1)\n",
    "\n",
    "#set from a list\n",
    "set2= set([1,2,3,3,3,3,34,4,5,4,4,4,4,4,4,5])\n",
    "\n",
    "print(set2, type(set2))\n",
    "\n",
    "#set of a string\n",
    "#method to find unique words in a string\n",
    "\n",
    "str=\"jasmeet\"\n",
    "set3=set(str)\n",
    "print(set3)\n",
    "\n",
    "#empty set can be done by set() method\n",
    "\n",
    "set={}\n",
    "\n",
    "print(type(set))  #will be dict\n"
   ]
  },
  {
   "cell_type": "code",
   "execution_count": 64,
   "id": "geological-frame",
   "metadata": {},
   "outputs": [
    {
     "name": "stdout",
     "output_type": "stream",
     "text": [
      "{1, 2, 4, 5, 6, 50}\n",
      "1\n",
      "2\n",
      "4\n",
      "5\n",
      "6\n",
      "50\n",
      "1 in set\n"
     ]
    }
   ],
   "source": [
    "#sets are mutable\n",
    "\n",
    "set1.add(1)\n",
    "set1.add(50)\n",
    "\n",
    "print(set1)\n",
    "\n",
    "#set1.clear() empty the set\n",
    "#set.pop to remove arbritary value\n",
    "\n",
    "for i in set1:\n",
    "    print(i)\n",
    "    \n",
    "if 1 in set1:\n",
    "    print(\"1 in set\")"
   ]
  },
  {
   "cell_type": "code",
   "execution_count": 6,
   "id": "obvious-conditioning",
   "metadata": {},
   "outputs": [
    {
     "name": "stdout",
     "output_type": "stream",
     "text": [
      "{0, 1, 2, 3, 4, 5, 6, 7, 8}\n",
      "{3, 5, 7}\n",
      "{2}\n",
      "{1}\n",
      "{0, 8, 4, 6}\n",
      "{1}\n",
      "{0, 8, 4, 6}\n",
      "{0, 1, 2, 3, 4, 5, 6, 7, 8}\n",
      "{0, 1, 2, 3, 4, 5, 6, 7, 8}\n",
      "{1, 2, 3, 5, 7}\n"
     ]
    }
   ],
   "source": [
    "#union and intersection\n",
    "\n",
    "s1={1,3,5,7}\n",
    "s2={0,2,4,6,8}\n",
    "primes={2,3,5,7}\n",
    "\n",
    "#union of s1 and s2- combine elements without dupliaction\n",
    "\n",
    "u=s2.union(s1)\n",
    "print(u)\n",
    "\n",
    "#intersection of 2 sets\n",
    "\n",
    "i= s1.intersection(primes)\n",
    "print(i)\n",
    "i1= s2.intersection(primes)\n",
    "print(i1)\n",
    "\n",
    "#difference of two sets- elements from 1st set that are not in the in the 2nd set\n",
    "\n",
    "diff=s1.difference(primes)\n",
    "print(diff)\n",
    "\n",
    "\n",
    "diff1=s2.difference(primes)\n",
    "print(diff1)\n",
    "\n",
    "#symmetric difference method- return the elements from set1 and set2 but the elements thata re in both sets\n",
    "\n",
    "\n",
    "sdiff=s1.symmetric_difference(primes)\n",
    "print(diff)\n",
    "\n",
    "\n",
    "sdiff1=s2.symmetric_difference(primes)\n",
    "print(diff1)\n",
    "\n",
    "\n",
    "primes.update(s1)  #updates prime based on s1\n",
    "\n",
    "s1.update(s2)\n",
    "\n",
    "s2.update(s1)\n",
    "\n",
    "\n",
    "print(s1)\n",
    "print(s2)\n",
    "print(primes)"
   ]
  },
  {
   "cell_type": "code",
   "execution_count": 16,
   "id": "funded-orchestra",
   "metadata": {},
   "outputs": [
    {
     "name": "stdout",
     "output_type": "stream",
     "text": [
      "{2, 3, 4, 5, 6, 34, 11, 12, 23}\n"
     ]
    }
   ],
   "source": [
    "#.update()\n",
    "s1={2,3,4,5,6,11,12}\n",
    "s2={11,12,23,34}\n",
    "\n",
    "s1.update(s2)  #adds 23, 34 whch is not present in s1 but present in s2\n",
    "print(s1)"
   ]
  },
  {
   "cell_type": "code",
   "execution_count": 20,
   "id": "divided-circuit",
   "metadata": {},
   "outputs": [
    {
     "name": "stdout",
     "output_type": "stream",
     "text": [
      "{11, 12}\n"
     ]
    }
   ],
   "source": [
    "#intersection_update() \n",
    "s1={2,3,4,5,6,11,12}\n",
    "s2={11,12,23,34,52,63}\n",
    "\n",
    "s1.intersection_update(s2)  #updates s1 with common elements present in both the sets\n",
    "\n",
    "print(s1)"
   ]
  },
  {
   "cell_type": "code",
   "execution_count": 21,
   "id": "optimum-raise",
   "metadata": {},
   "outputs": [
    {
     "name": "stdout",
     "output_type": "stream",
     "text": [
      "{2, 3, 4, 5, 6}\n"
     ]
    }
   ],
   "source": [
    "#difference update method\n",
    "\n",
    "s1={2,3,4,5,6,11,12}\n",
    "s2={11,12,23,34,52,63}\n",
    "\n",
    "s1.difference_update(s2)  #updates set by removing elements found the other set\n",
    "\n",
    "print(s1)"
   ]
  },
  {
   "cell_type": "code",
   "execution_count": 23,
   "id": "after-overhead",
   "metadata": {},
   "outputs": [
    {
     "name": "stdout",
     "output_type": "stream",
     "text": [
      "{2, 3, 4, 5, 6, 23, 34, 52, 63}\n"
     ]
    }
   ],
   "source": [
    "#symmetric difference update method\n",
    "\n",
    "s1={2,3,4,5,6,11,12}\n",
    "s2={11,12,23,34,52,63}\n",
    "\n",
    "s1.symmetric_difference_update(s2) #updates s1 based on the elements adding other elements to s1 and removing common elements from both the sets\n",
    "\n",
    "print(s1)"
   ]
  },
  {
   "cell_type": "code",
   "execution_count": 28,
   "id": "hawaiian-punch",
   "metadata": {},
   "outputs": [
    {
     "name": "stdout",
     "output_type": "stream",
     "text": [
      "True\n",
      "True\n",
      "True\n"
     ]
    }
   ],
   "source": [
    "#subset and superset\n",
    "#disjoint- to check if they have null intersection\n",
    "\n",
    "s1={2,3,4,5,6,11,12}\n",
    "s2={2,3,4,12}\n",
    "s3={9,10}\n",
    "\n",
    "print(s2.issubset(s1))\n",
    "print(s1.issuperset(s2))\n",
    "print(s1.isdisjoint(s3))"
   ]
  },
  {
   "cell_type": "code",
   "execution_count": 31,
   "id": "equipped-marketing",
   "metadata": {},
   "outputs": [
    {
     "name": "stdout",
     "output_type": "stream",
     "text": [
      "{9, 10}\n"
     ]
    }
   ],
   "source": [
    "#copying two sets\n",
    "#if simple assignment is done and if we change the copy, the original will also be changed\n",
    "\n",
    "#.copy method\n",
    "\n",
    "s3={9,10}\n",
    "s4=s3.copy()\n",
    "print(s4)"
   ]
  },
  {
   "cell_type": "markdown",
   "id": "contrary-contract",
   "metadata": {},
   "source": [
    "## Frozenset- immutable version of normal set"
   ]
  },
  {
   "cell_type": "code",
   "execution_count": 35,
   "id": "regional-virtue",
   "metadata": {},
   "outputs": [
    {
     "name": "stdout",
     "output_type": "stream",
     "text": [
      "frozenset({1, 2, 3, 4, 6})\n"
     ]
    },
    {
     "ename": "AttributeError",
     "evalue": "'frozenset' object has no attribute 'remove'",
     "output_type": "error",
     "traceback": [
      "\u001b[1;31m---------------------------------------------------------------------------\u001b[0m",
      "\u001b[1;31mAttributeError\u001b[0m                            Traceback (most recent call last)",
      "\u001b[1;32m<ipython-input-35-89d5fefeefb6>\u001b[0m in \u001b[0;36m<module>\u001b[1;34m\u001b[0m\n\u001b[0;32m      2\u001b[0m \u001b[0mprint\u001b[0m\u001b[1;33m(\u001b[0m\u001b[0ma\u001b[0m\u001b[1;33m)\u001b[0m\u001b[1;33m\u001b[0m\u001b[1;33m\u001b[0m\u001b[0m\n\u001b[0;32m      3\u001b[0m  \u001b[1;31m#will not work as it is immuatble\u001b[0m\u001b[1;33m\u001b[0m\u001b[1;33m\u001b[0m\u001b[1;33m\u001b[0m\u001b[0m\n\u001b[1;32m----> 4\u001b[1;33m \u001b[0ma\u001b[0m\u001b[1;33m.\u001b[0m\u001b[0mremove\u001b[0m\u001b[1;33m(\u001b[0m\u001b[1;36m2\u001b[0m\u001b[1;33m)\u001b[0m\u001b[1;33m\u001b[0m\u001b[1;33m\u001b[0m\u001b[0m\n\u001b[0m",
      "\u001b[1;31mAttributeError\u001b[0m: 'frozenset' object has no attribute 'remove'"
     ]
    }
   ],
   "source": [
    "a= frozenset([1,2,3,4,6])\n",
    "print(a)\n",
    " #will not work as it is immuatble\n",
    "a.remove(2)\n",
    "#dijoint, subset anf other methods will work without any problem"
   ]
  },
  {
   "cell_type": "markdown",
   "id": "stunning-junction",
   "metadata": {},
   "source": [
    "## Strings"
   ]
  },
  {
   "cell_type": "code",
   "execution_count": 36,
   "id": "italian-southwest",
   "metadata": {},
   "outputs": [],
   "source": [
    "string='jasmeet'"
   ]
  },
  {
   "cell_type": "code",
   "execution_count": 37,
   "id": "general-discovery",
   "metadata": {},
   "outputs": [
    {
     "name": "stdout",
     "output_type": "stream",
     "text": [
      "jasmeet\n"
     ]
    }
   ],
   "source": [
    "print(string)"
   ]
  },
  {
   "cell_type": "code",
   "execution_count": 38,
   "id": "contained-greeting",
   "metadata": {},
   "outputs": [
    {
     "name": "stdout",
     "output_type": "stream",
     "text": [
      "hello world\n"
     ]
    }
   ],
   "source": [
    "str1='hello world'\n",
    "print(str1)"
   ]
  },
  {
   "cell_type": "code",
   "execution_count": 39,
   "id": "novel-server",
   "metadata": {},
   "outputs": [
    {
     "name": "stdout",
     "output_type": "stream",
     "text": [
      "I'm a programmer\n"
     ]
    }
   ],
   "source": [
    "str2='I\\'m a programmer'\n",
    "print(str2)"
   ]
  },
  {
   "cell_type": "code",
   "execution_count": 40,
   "id": "short-pursuit",
   "metadata": {},
   "outputs": [
    {
     "name": "stdout",
     "output_type": "stream",
     "text": [
      "hello\n",
      "world\n"
     ]
    }
   ],
   "source": [
    "#mulitline string\n",
    "\n",
    "str1='''hello\n",
    "world'''\n",
    "\n",
    "print(str1)"
   ]
  },
  {
   "cell_type": "code",
   "execution_count": 44,
   "id": "broadband-crest",
   "metadata": {},
   "outputs": [
    {
     "name": "stdout",
     "output_type": "stream",
     "text": [
      "d\n"
     ]
    }
   ],
   "source": [
    "#indexing\n",
    "str1='hello world'\n",
    "char=str1[-1]\n",
    "print(char)"
   ]
  },
  {
   "cell_type": "code",
   "execution_count": 46,
   "id": "elect-experience",
   "metadata": {},
   "outputs": [
    {
     "ename": "TypeError",
     "evalue": "'str' object does not support item assignment",
     "output_type": "error",
     "traceback": [
      "\u001b[1;31m---------------------------------------------------------------------------\u001b[0m",
      "\u001b[1;31mTypeError\u001b[0m                                 Traceback (most recent call last)",
      "\u001b[1;32m<ipython-input-46-fb72c1b2b62e>\u001b[0m in \u001b[0;36m<module>\u001b[1;34m\u001b[0m\n\u001b[0;32m      1\u001b[0m \u001b[1;31m#string are immutable\u001b[0m\u001b[1;33m\u001b[0m\u001b[1;33m\u001b[0m\u001b[1;33m\u001b[0m\u001b[0m\n\u001b[0;32m      2\u001b[0m \u001b[0mstr1\u001b[0m\u001b[1;33m=\u001b[0m\u001b[1;34m'hello world'\u001b[0m\u001b[1;33m\u001b[0m\u001b[1;33m\u001b[0m\u001b[0m\n\u001b[1;32m----> 3\u001b[1;33m \u001b[0mstr1\u001b[0m\u001b[1;33m[\u001b[0m\u001b[1;33m-\u001b[0m\u001b[1;36m1\u001b[0m\u001b[1;33m]\u001b[0m\u001b[1;33m=\u001b[0m\u001b[1;34m'n'\u001b[0m\u001b[1;33m\u001b[0m\u001b[1;33m\u001b[0m\u001b[0m\n\u001b[0m\u001b[0;32m      4\u001b[0m \u001b[0mprint\u001b[0m\u001b[1;33m(\u001b[0m\u001b[0mstr1\u001b[0m\u001b[1;33m)\u001b[0m\u001b[1;33m\u001b[0m\u001b[1;33m\u001b[0m\u001b[0m\n",
      "\u001b[1;31mTypeError\u001b[0m: 'str' object does not support item assignment"
     ]
    }
   ],
   "source": [
    "#string are immutable\n",
    "str1='hello world'\n",
    "str1[-1]='n'\n",
    "print(str1)"
   ]
  },
  {
   "cell_type": "code",
   "execution_count": 56,
   "id": "continuous-attribute",
   "metadata": {},
   "outputs": [
    {
     "name": "stdout",
     "output_type": "stream",
     "text": [
      "eet\n",
      "jset\n"
     ]
    }
   ],
   "source": [
    "#slicing\n",
    "str1='jasmeet'\n",
    "print(str1[-3:])\n",
    "\n",
    "#step-slicing\n",
    "print(str1[::2]) #print str with step of 2"
   ]
  },
  {
   "cell_type": "code",
   "execution_count": 60,
   "id": "comfortable-marks",
   "metadata": {},
   "outputs": [
    {
     "name": "stdout",
     "output_type": "stream",
     "text": [
      "spiderman\n",
      "s\n",
      "p\n",
      "i\n",
      "d\n",
      "e\n",
      "r\n",
      "m\n",
      "a\n",
      "n\n",
      "yes\n"
     ]
    }
   ],
   "source": [
    "#concatenate strings using +\n",
    "\n",
    "s1='spider'\n",
    "s2='man'\n",
    "s3=s1+s2\n",
    "print(s3)\n",
    "\n",
    "for i in s3:\n",
    "    print(i)\n",
    "    \n",
    "    \n",
    "#check for a substring in a string\n",
    "\n",
    "if 'e' in s3:\n",
    "    print(\"yes\")"
   ]
  },
  {
   "cell_type": "code",
   "execution_count": 66,
   "id": "elder-exchange",
   "metadata": {},
   "outputs": [
    {
     "name": "stdout",
     "output_type": "stream",
     "text": [
      "     hw      \n",
      "hw\n",
      "     hw      \n",
      "     HW      \n",
      "     hw      \n"
     ]
    }
   ],
   "source": [
    "#remove wide spaces in strings\n",
    "\n",
    "str='     hw      '\n",
    "print(str)\n",
    "\n",
    "print(str.strip())\n",
    "\n",
    "print(str)\n",
    "\n",
    "#(uppper,lower)case\n",
    "\n",
    "print(str.upper())\n",
    "print(str.lower())"
   ]
  },
  {
   "cell_type": "code",
   "execution_count": 68,
   "id": "abandoned-windsor",
   "metadata": {},
   "outputs": [
    {
     "name": "stdout",
     "output_type": "stream",
     "text": [
      "True\n",
      "True\n"
     ]
    }
   ],
   "source": [
    "str='jasmeet singh'\n",
    "\n",
    "#startswith and endswith\n",
    "\n",
    "print(str.startswith('jasmeet'))\n",
    "print(str.endswith('singh'))"
   ]
  },
  {
   "cell_type": "code",
   "execution_count": 76,
   "id": "later-drinking",
   "metadata": {},
   "outputs": [
    {
     "name": "stdout",
     "output_type": "stream",
     "text": [
      "-1\n",
      "2\n",
      "siddharth singh\n",
      "jasmeet singh\n"
     ]
    }
   ],
   "source": [
    "#find index of char or substring\n",
    "str='jasmeet singh'\n",
    "print(str.find('pp'))\n",
    "\n",
    "#check for no. of time char in repeating\n",
    "\n",
    "print(str.count('e'))\n",
    "\n",
    "print(str.replace('jasmeet','siddharth'))\n",
    "\n",
    "print(str)"
   ]
  },
  {
   "cell_type": "code",
   "execution_count": 86,
   "id": "chronic-execution",
   "metadata": {},
   "outputs": [
    {
     "name": "stdout",
     "output_type": "stream",
     "text": [
      "['how.are.you.doing']\n",
      "['how', 'are', 'you', 'doing']\n",
      "how are you doing\n",
      "['a', 'a', 'a', 'a', 'a', 'a']\n",
      "aaaaaa\n",
      "aaaaaa\n"
     ]
    }
   ],
   "source": [
    "str='how.are.you.doing'\n",
    "\n",
    "#convert to list\n",
    "\n",
    "list1=str.split()   #deafult delimiter looks for space\n",
    "print(list1)\n",
    "\n",
    "list1=str.split('.')   #deafult delimiter looks for space\n",
    "print(list1)\n",
    "\n",
    "#list to string\n",
    "\n",
    "new_str= ' '.join(list1)\n",
    "print(new_str) #conactenate all words without spaces\n"
   ]
  },
  {
   "cell_type": "code",
   "execution_count": 91,
   "id": "diagnostic-diving",
   "metadata": {},
   "outputs": [
    {
     "name": "stdout",
     "output_type": "stream",
     "text": [
      "0.05708209999920655\n",
      "0.0023820999995223247 much faster!\n"
     ]
    }
   ],
   "source": [
    "from timeit import default_timer as timer\n",
    "\n",
    "l1=['a']*100000\n",
    "\n",
    "#bad code very expensive\n",
    "start=timer()\n",
    "\n",
    "str=''\n",
    "\n",
    "for i in l1:\n",
    "    str+=i\n",
    "\n",
    "stop=timer()\n",
    "\n",
    "print(stop-start)\n",
    "\n",
    "#using .join method- less expensive\n",
    "\n",
    "start1=timer()\n",
    "str=''.join(l1)\n",
    "stop1=timer()\n",
    "print(stop1-start1, 'much faster!')"
   ]
  },
  {
   "cell_type": "code",
   "execution_count": 112,
   "id": "chemical-armor",
   "metadata": {},
   "outputs": [
    {
     "name": "stdout",
     "output_type": "stream",
     "text": [
      "look out it's spider man\n",
      "The answer is 3 \n",
      "No the correct answer is 3.3367673264 \n",
      "look out it's spider man\n",
      "I think the correct answer is 3.337 \n",
      "look out it's spiderspider man\n"
     ]
    }
   ],
   "source": [
    "#formating string\n",
    "#% operator and format(), f-Strings\n",
    "\n",
    "#when var is a str\n",
    "\n",
    "v='spider'\n",
    "str1=\"look out it\\'s %s man\" %v\n",
    "\n",
    "print(str1)\n",
    "\n",
    "#when var is a number\n",
    "\n",
    "\n",
    "v=3\n",
    "str1=\"The answer is %d \" %v\n",
    "\n",
    "print(str1)\n",
    "\n",
    "v=3.33676732636\n",
    "str1=\"No the correct answer is %.10f \" %v  #.2 for 2 digits after decimal\n",
    "\n",
    "print(str1)\n",
    "\n",
    "\n",
    "#new formatting style\n",
    "\n",
    "v='spider'\n",
    "str1=\"look out it\\'s {} man\".format(v)\n",
    "\n",
    "print(str1)\n",
    "\n",
    "\n",
    "v=3.33676732636\n",
    "str1=\"I think the correct answer is {:.3f} \" .format(v)  #.2 for 2 digits after decimal\n",
    "\n",
    "print(str1)\n",
    "\n",
    "\n",
    "#newest way f-string\n",
    "\n",
    "v='spider'\n",
    "str1=f\"look out it\\'s {v*2} man\" #can be evaluated during runtime\n",
    "print(str1)\n",
    "\n"
   ]
  },
  {
   "cell_type": "markdown",
   "id": "frank-frontier",
   "metadata": {},
   "source": [
    "## Collections\n",
    "\n",
    "   Counter, namedtuple, OrderedDict, defaultdict and deque."
   ]
  },
  {
   "cell_type": "code",
   "execution_count": 128,
   "id": "billion-gibraltar",
   "metadata": {},
   "outputs": [
    {
     "name": "stdout",
     "output_type": "stream",
     "text": [
      "Counter({'b': 5, 'c': 5, 'd': 5, 'f': 4, 'a': 3})\n",
      "dict_items([('a', 3), ('b', 5), ('c', 5), ('d', 5), ('f', 4)])\n",
      "dict_keys(['a', 'b', 'c', 'd', 'f'])\n",
      "dict_values([3, 5, 5, 5, 4])\n",
      "[('b', 5), ('c', 5)]\n",
      "['a', 'a', 'a', 'b', 'b', 'b', 'b', 'b', 'c', 'c', 'c', 'c', 'c', 'd', 'd', 'd', 'd', 'd', 'f', 'f', 'f', 'f']\n"
     ]
    }
   ],
   "source": [
    "from collections import Counter\n",
    "\n",
    "#stores elements a dict keys and their counts as dict values \n",
    "\n",
    "s='aaabbbbbcccccdddddffff'\n",
    "counter= Counter(s)\n",
    "\n",
    "print(counter)\n",
    "print(counter.items())\n",
    "print(counter.keys())\n",
    "print(counter.values())\n",
    "\n",
    "print(counter.most_common(2))  # list of tuples 2 item with most count in the dictinary\n",
    "\n",
    "print(list(counter.elements())) #list of the values"
   ]
  },
  {
   "cell_type": "code",
   "execution_count": 132,
   "id": "extra-spectrum",
   "metadata": {},
   "outputs": [
    {
     "name": "stdout",
     "output_type": "stream",
     "text": [
      "point(x=102, y=-2)\n",
      "102 -2\n"
     ]
    }
   ],
   "source": [
    "from collections import namedtuple\n",
    "point=namedtuple('point','x,y')  #class of point with field x,y\n",
    "\n",
    "p1=point(102,-2)\n",
    "print(p1)\n",
    "print(p1.x,p1.y)  #access field value"
   ]
  },
  {
   "cell_type": "code",
   "execution_count": 134,
   "id": "average-cincinnati",
   "metadata": {},
   "outputs": [
    {
     "name": "stdout",
     "output_type": "stream",
     "text": [
      "OrderedDict([('a', 1), ('b', 2), ('c', 3), ('d', 4)])\n"
     ]
    }
   ],
   "source": [
    "from collections import OrderedDict\n",
    "#dictionary which remembers the order of the items as they were inserted\n",
    "#now common with normal dictionaries so not used that much\n",
    "\n",
    "od= OrderedDict()\n",
    "od['a']=1\n",
    "od['b']=2\n",
    "od['c']=3\n",
    "od['d']=4\n",
    "print(od) #will be in same order s it was inserted"
   ]
  },
  {
   "cell_type": "code",
   "execution_count": 139,
   "id": "answering-wallace",
   "metadata": {},
   "outputs": [
    {
     "name": "stdout",
     "output_type": "stream",
     "text": [
      "0.0\n"
     ]
    }
   ],
   "source": [
    "from collections import defaultdict\n",
    "\n",
    "#similar to normal dict diff is default value if the key is not set\n",
    "\n",
    "d= defaultdict(float)  #int default type\n",
    "\n",
    "d['a']=1\n",
    "d['b']=2\n",
    "d['c']=3\n",
    "\n",
    "#accessing key\n",
    "\n",
    "print(d['4'])  #return defalut value of int-0,float-0.0, lits-[]"
   ]
  },
  {
   "cell_type": "code",
   "execution_count": 149,
   "id": "characteristic-abraham",
   "metadata": {},
   "outputs": [
    {
     "name": "stdout",
     "output_type": "stream",
     "text": [
      "deque([1, 2])\n",
      "deque([3, 1, 2])\n",
      "deque([3, 1])\n",
      "deque([1])\n",
      "deque([1, 3, 6, 7, 8])\n",
      "deque([8, 7, 6, 3, 4, 3, 1, 2, 1, 3, 6, 7, 8])\n",
      "deque([8, 8, 7, 6, 3, 4, 3, 1, 2, 1, 3, 6, 7])\n",
      "deque([7, 6, 3, 4, 3, 1, 2, 1, 3, 6, 7, 8, 8])\n"
     ]
    }
   ],
   "source": [
    "from collections import deque\n",
    "\n",
    "#double ended queue\n",
    "#very efficient\n",
    "d=deque()\n",
    "d.append(1)\n",
    "d.append(2)\n",
    "\n",
    "print(d)\n",
    "\n",
    "d.appendleft(3)\n",
    "print(d)\n",
    "d.pop()\n",
    "print(d)\n",
    "d.popleft()\n",
    "\n",
    "print(d)\n",
    "\n",
    "d.extend([3,6,7,8])  #add list of ele to right\n",
    "\n",
    "print(d)\n",
    "\n",
    "d.extendleft([2,1,3,4,3,6,7,8])  #add list of ele to left\n",
    "\n",
    "print(d)\n",
    "\n",
    "#rotate the deque\n",
    "\n",
    "d.rotate(1)  #rotate elements 1 place to right\n",
    "\n",
    "print(d)\n",
    "\n",
    "d.rotate(-2)  #rotate elements 2 place to left\n",
    "\n",
    "print(d)"
   ]
  },
  {
   "cell_type": "markdown",
   "id": "essential-therapy",
   "metadata": {},
   "source": [
    "## Itertools module in python\n",
    "-product, permutations, combinations, accumulations, groupby, and   infinite iterations"
   ]
  },
  {
   "cell_type": "code",
   "execution_count": 157,
   "id": "musical-earthquake",
   "metadata": {},
   "outputs": [
    {
     "name": "stdout",
     "output_type": "stream",
     "text": [
      "[(1, 3, 1, 3), (1, 3, 2, 3), (2, 3, 1, 3), (2, 3, 2, 3)]\n"
     ]
    }
   ],
   "source": [
    "from itertools import product\n",
    "\n",
    "a=[1,2]\n",
    "b=[3]\n",
    "p=product(a,b,repeat=2)  #cartesian product of a and b repeat will repeat the product n no of times\n",
    "print(list(p))"
   ]
  },
  {
   "cell_type": "code",
   "execution_count": 164,
   "id": "superior-nelson",
   "metadata": {},
   "outputs": [
    {
     "name": "stdout",
     "output_type": "stream",
     "text": [
      "[(1, 2, 3), (1, 3, 2), (2, 1, 3), (2, 3, 1), (3, 1, 2), (3, 2, 1)]\n"
     ]
    }
   ],
   "source": [
    "from itertools import permutations\n",
    "\n",
    "a=[1,2,3]\n",
    "b=[3]\n",
    "p=permutations(a,3)  #all permutations of a list with size n\n",
    "print(list(p))"
   ]
  },
  {
   "cell_type": "code",
   "execution_count": 168,
   "id": "boxed-criticism",
   "metadata": {},
   "outputs": [
    {
     "name": "stdout",
     "output_type": "stream",
     "text": [
      "[(1, 2), (1, 3), (1, 5), (2, 3), (2, 5), (3, 5)]\n",
      "[(1, 1), (1, 2), (1, 3), (1, 5), (2, 2), (2, 3), (2, 5), (3, 3), (3, 5), (5, 5)]\n"
     ]
    }
   ],
   "source": [
    "from itertools import combinations, combinations_with_replacement\n",
    "\n",
    "a=[1,2,3,5]\n",
    "#all combinations in a specified length\n",
    "c=combinations(a,2) #no combinations with itself\n",
    "print(list(c))\n",
    "c=combinations_with_replacement(a,2) #with itself\n",
    "print(list(c))"
   ]
  },
  {
   "cell_type": "code",
   "execution_count": 177,
   "id": "cardiac-tennis",
   "metadata": {},
   "outputs": [
    {
     "name": "stdout",
     "output_type": "stream",
     "text": [
      "[1, 3, 6, 11]\n",
      "[1, 2, 6, 30]\n",
      "[1, 2, 3, 5]\n"
     ]
    }
   ],
   "source": [
    "from itertools import accumulate\n",
    "\n",
    "a=[1,2,3,5]\n",
    "b=accumulate(a)  #summing elements by default\n",
    "print(list(b))\n",
    "\n",
    "import operator\n",
    "\n",
    "c=accumulate(a, func=operator.mul)  #multiplying elements\n",
    "print(list(c))\n",
    "d=accumulate(a, func=max)  #compare and return max\n",
    "print(list(d))"
   ]
  },
  {
   "cell_type": "code",
   "execution_count": 188,
   "id": "universal-plenty",
   "metadata": {},
   "outputs": [
    {
     "name": "stdout",
     "output_type": "stream",
     "text": [
      "True [1]\n",
      "False [2, 3, 4]\n"
     ]
    }
   ],
   "source": [
    "from itertools import groupby\n",
    "\n",
    "#make groups based on a condtiton\n",
    "\n",
    "\n",
    "\n",
    "a=[1,2,3,4]\n",
    "gb=groupby(a,key=lambda x: x<2)\n",
    "\n",
    "for key,value in gb:\n",
    "    print(key, list(value))\n",
    "    \n",
    "    #ANOTHER EXAMPLE\n",
    "\n"
   ]
  },
  {
   "cell_type": "code",
   "execution_count": 196,
   "id": "empty-teens",
   "metadata": {},
   "outputs": [
    {
     "name": "stdout",
     "output_type": "stream",
     "text": [
      "10\n",
      "11\n",
      "12\n",
      "13\n",
      "14\n",
      "15\n",
      "16\n",
      "17\n",
      "18\n",
      "19\n",
      "20\n",
      "1\n",
      "1\n",
      "1\n",
      "1\n"
     ]
    }
   ],
   "source": [
    "from itertools import count, cycle, repeat\n",
    "\n",
    "for i in count(10):  #starts from 10 add 1 each iteration\n",
    "    print(i)\n",
    "    \n",
    "    if i==20:\n",
    "        break\n",
    "\n",
    "a=[1,2,3]\n",
    "\n",
    "'''for i in cycle(a):  #infinitely cycles for values of a\n",
    "    print(i)'''\n",
    "    \n",
    "for i in repeat(1,4):  # repeats 1 4 times\n",
    "    print(i)"
   ]
  },
  {
   "cell_type": "code",
   "execution_count": null,
   "id": "binary-gnome",
   "metadata": {},
   "outputs": [],
   "source": []
  },
  {
   "cell_type": "code",
   "execution_count": null,
   "id": "friendly-child",
   "metadata": {},
   "outputs": [],
   "source": []
  }
 ],
 "metadata": {
  "kernelspec": {
   "display_name": "Python 3 (ipykernel)",
   "language": "python",
   "name": "python3"
  },
  "language_info": {
   "codemirror_mode": {
    "name": "ipython",
    "version": 3
   },
   "file_extension": ".py",
   "mimetype": "text/x-python",
   "name": "python",
   "nbconvert_exporter": "python",
   "pygments_lexer": "ipython3",
   "version": "3.8.8"
  }
 },
 "nbformat": 4,
 "nbformat_minor": 5
}
